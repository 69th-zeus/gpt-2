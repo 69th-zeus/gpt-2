{
 "cells": [
  {
   "cell_type": "markdown",
   "id": "011d4c2b",
   "metadata": {},
   "source": [
    "# Coding Attention Mechanisms"
   ]
  },
  {
   "cell_type": "markdown",
   "id": "70d00385",
   "metadata": {},
   "source": [
    "## Simple Version"
   ]
  },
  {
   "cell_type": "code",
   "execution_count": 1,
   "id": "3ac353f2",
   "metadata": {},
   "outputs": [],
   "source": [
    "import torch\n",
    "\n",
    "inputs = torch.tensor(\n",
    "    [[0.43, 0.15, 0.89], # Your     x^1\n",
    "    [0.55, 0.87, 0.66], # journey   x^2  \n",
    "    [0.57, 0.86, 0.64], # starts    x^3\n",
    "    [0.22, 0.58, 0.33], # with      x^4\n",
    "    [0.77, 0.35, 0.10], # one       x^5\n",
    "    [0.05, 0.80, 0.55]] # step      x^6\n",
    ")"
   ]
  },
  {
   "cell_type": "code",
   "execution_count": 2,
   "id": "7ef815fe",
   "metadata": {},
   "outputs": [],
   "source": [
    "input_query = inputs[1]"
   ]
  },
  {
   "cell_type": "code",
   "execution_count": 3,
   "id": "751577ef",
   "metadata": {},
   "outputs": [],
   "source": [
    "input_1 = inputs[0]"
   ]
  },
  {
   "cell_type": "code",
   "execution_count": 4,
   "id": "a0fcd84f",
   "metadata": {},
   "outputs": [
    {
     "data": {
      "text/plain": [
       "tensor(0.9544)"
      ]
     },
     "execution_count": 4,
     "metadata": {},
     "output_type": "execute_result"
    }
   ],
   "source": [
    "torch.dot(input_query, input_1)"
   ]
  },
  {
   "cell_type": "code",
   "execution_count": 5,
   "id": "bd3b3b3c",
   "metadata": {},
   "outputs": [
    {
     "name": "stdout",
     "output_type": "stream",
     "text": [
      "tensor(0.9544)\n"
     ]
    }
   ],
   "source": [
    "i = 0\n",
    "\n",
    "res = torch.dot(inputs[i], input_query)\n",
    "\n",
    "print(res)"
   ]
  },
  {
   "cell_type": "code",
   "execution_count": 6,
   "id": "b06ab089",
   "metadata": {},
   "outputs": [
    {
     "data": {
      "text/plain": [
       "tensor([6.8610e+15, 1.2051e-42, 0.0000e+00, 0.0000e+00, 0.0000e+00, 0.0000e+00])"
      ]
     },
     "execution_count": 6,
     "metadata": {},
     "output_type": "execute_result"
    }
   ],
   "source": [
    "torch.empty(inputs.shape[0])"
   ]
  },
  {
   "cell_type": "code",
   "execution_count": 7,
   "id": "c5f7b1fb",
   "metadata": {},
   "outputs": [
    {
     "name": "stdout",
     "output_type": "stream",
     "text": [
      "tensor([0.9544, 1.4950, 1.4841, 0.8434, 0.7940, 1.0865])\n"
     ]
    }
   ],
   "source": [
    "query = inputs[1]\n",
    "\n",
    "attn_scores_2 = torch.empty(inputs.shape[0])\n",
    "for i, x_i in enumerate(inputs):\n",
    "    attn_scores_2[i] = torch.dot(x_i, query)\n",
    "\n",
    "print(attn_scores_2)"
   ]
  },
  {
   "cell_type": "code",
   "execution_count": 8,
   "id": "c736ab44",
   "metadata": {},
   "outputs": [],
   "source": [
    "attn_weights_2_tmp = attn_scores_2 / attn_scores_2.sum()"
   ]
  },
  {
   "cell_type": "code",
   "execution_count": 9,
   "id": "b8971837",
   "metadata": {},
   "outputs": [
    {
     "data": {
      "text/plain": [
       "tensor([0.1369, 0.2351, 0.2326, 0.1225, 0.1166, 0.1563])"
      ]
     },
     "execution_count": 9,
     "metadata": {},
     "output_type": "execute_result"
    }
   ],
   "source": [
    "def softmax_naive(x):\n",
    "    return torch.exp(x) / torch.exp(x).sum(dim = 0)\n",
    "\n",
    "softmax_naive(attn_scores_2)"
   ]
  },
  {
   "cell_type": "code",
   "execution_count": 10,
   "id": "686438f4",
   "metadata": {},
   "outputs": [],
   "source": [
    "attn_weights_2 = torch.softmax(attn_scores_2, dim = 0)"
   ]
  },
  {
   "cell_type": "code",
   "execution_count": 11,
   "id": "0cff376c",
   "metadata": {},
   "outputs": [
    {
     "name": "stdout",
     "output_type": "stream",
     "text": [
      "tensor([0.4453, 0.6620, 0.5639])\n"
     ]
    }
   ],
   "source": [
    "query = inputs[1]\n",
    "\n",
    "context_vec_2 = torch.zeros(query.shape)\n",
    "for i,x_i in enumerate(inputs):\n",
    "    context_vec_2 += attn_weights_2[i] * x_i\n",
    "\n",
    "print(context_vec_2)"
   ]
  },
  {
   "cell_type": "markdown",
   "id": "01c3d5ac",
   "metadata": {},
   "source": [
    "## without trainable weights"
   ]
  },
  {
   "cell_type": "code",
   "execution_count": 12,
   "id": "a770cbba",
   "metadata": {},
   "outputs": [
    {
     "name": "stdout",
     "output_type": "stream",
     "text": [
      "tensor([[0.9995, 0.9544, 0.9437, 0.4753, 0.4726, 0.6310],\n",
      "        [0.9544, 1.4950, 1.4841, 0.8434, 0.7940, 1.0865],\n",
      "        [0.9437, 1.4841, 1.4741, 0.8354, 0.8039, 1.0685],\n",
      "        [0.4753, 0.8434, 0.8354, 0.4937, 0.4054, 0.6565],\n",
      "        [0.4726, 0.7940, 0.8039, 0.4054, 0.7254, 0.3735],\n",
      "        [0.6310, 1.0865, 1.0685, 0.6565, 0.3735, 0.9450]])\n"
     ]
    }
   ],
   "source": [
    "attn_scores = torch.empty(6 ,6)\n",
    "\n",
    "for i, x_i in enumerate(inputs):\n",
    "    for j, x_j in enumerate(inputs):\n",
    "        attn_scores[i, j] = torch.dot(x_i, x_j)\n",
    "\n",
    "print(attn_scores)"
   ]
  },
  {
   "cell_type": "code",
   "execution_count": 13,
   "id": "7c7d6ba1",
   "metadata": {},
   "outputs": [
    {
     "data": {
      "text/plain": [
       "tensor([[0.9995, 0.9544, 0.9437, 0.4753, 0.4726, 0.6310],\n",
       "        [0.9544, 1.4950, 1.4841, 0.8434, 0.7940, 1.0865],\n",
       "        [0.9437, 1.4841, 1.4741, 0.8354, 0.8039, 1.0685],\n",
       "        [0.4753, 0.8434, 0.8354, 0.4937, 0.4054, 0.6565],\n",
       "        [0.4726, 0.7940, 0.8039, 0.4054, 0.7254, 0.3735],\n",
       "        [0.6310, 1.0865, 1.0685, 0.6565, 0.3735, 0.9450]])"
      ]
     },
     "execution_count": 13,
     "metadata": {},
     "output_type": "execute_result"
    }
   ],
   "source": [
    "attn_scores = inputs @ inputs.T\n",
    "attn_scores"
   ]
  },
  {
   "cell_type": "code",
   "execution_count": 14,
   "id": "54d725ab",
   "metadata": {},
   "outputs": [
    {
     "data": {
      "text/plain": [
       "tensor([[0.2094, 0.2002, 0.1980, 0.1240, 0.1236, 0.1448],\n",
       "        [0.1369, 0.2351, 0.2326, 0.1225, 0.1166, 0.1563],\n",
       "        [0.1367, 0.2346, 0.2323, 0.1227, 0.1189, 0.1549],\n",
       "        [0.1423, 0.2056, 0.2040, 0.1449, 0.1327, 0.1706],\n",
       "        [0.1449, 0.1999, 0.2018, 0.1355, 0.1866, 0.1313],\n",
       "        [0.1371, 0.2162, 0.2124, 0.1406, 0.1060, 0.1877]])"
      ]
     },
     "execution_count": 14,
     "metadata": {},
     "output_type": "execute_result"
    }
   ],
   "source": [
    "attn_weights = torch.softmax(attn_scores, dim = 1)\n",
    "attn_weights"
   ]
  },
  {
   "cell_type": "code",
   "execution_count": 15,
   "id": "3cfe5fdb",
   "metadata": {},
   "outputs": [
    {
     "data": {
      "text/plain": [
       "tensor([[0.4427, 0.6069, 0.5781],\n",
       "        [0.4453, 0.6620, 0.5639],\n",
       "        [0.4465, 0.6611, 0.5627],\n",
       "        [0.4331, 0.6426, 0.5478],\n",
       "        [0.4674, 0.6181, 0.5256],\n",
       "        [0.4209, 0.6601, 0.5609]])"
      ]
     },
     "execution_count": 15,
     "metadata": {},
     "output_type": "execute_result"
    }
   ],
   "source": [
    "all_context_vecs = attn_weights @ inputs\n",
    "all_context_vecs"
   ]
  },
  {
   "cell_type": "markdown",
   "id": "875334d0",
   "metadata": {},
   "source": [
    "## Computing Attention Weights Step by Step with trainable weights"
   ]
  },
  {
   "cell_type": "code",
   "execution_count": 16,
   "id": "7c3352dd",
   "metadata": {},
   "outputs": [],
   "source": [
    "x_2 = inputs[1]\n",
    "d_in = inputs.shape[1]\n",
    "d_out = 2"
   ]
  },
  {
   "cell_type": "code",
   "execution_count": 17,
   "id": "4ec14e7a",
   "metadata": {},
   "outputs": [],
   "source": [
    "torch.manual_seed(123)\n",
    "\n",
    "W_query = torch.nn.Parameter(torch.rand(d_in, d_out))\n",
    "W_key = torch.nn.Parameter(torch.rand(d_in, d_out))\n",
    "W_value = torch.nn.Parameter(torch.rand(d_in, d_out))"
   ]
  },
  {
   "cell_type": "code",
   "execution_count": 18,
   "id": "afb9bbdf",
   "metadata": {},
   "outputs": [
    {
     "data": {
      "text/plain": [
       "tensor([0.4306, 1.4551], grad_fn=<SqueezeBackward4>)"
      ]
     },
     "execution_count": 18,
     "metadata": {},
     "output_type": "execute_result"
    }
   ],
   "source": [
    "query_2 = x_2 @ W_query\n",
    "\n",
    "query_2"
   ]
  },
  {
   "cell_type": "code",
   "execution_count": 19,
   "id": "08b08864",
   "metadata": {},
   "outputs": [],
   "source": [
    "keys = inputs @ W_key\n",
    "value = inputs @ W_value"
   ]
  },
  {
   "cell_type": "code",
   "execution_count": 20,
   "id": "dc440c9c",
   "metadata": {},
   "outputs": [
    {
     "data": {
      "text/plain": [
       "tensor([[0.3669, 0.7646],\n",
       "        [0.4433, 1.1419],\n",
       "        [0.4379, 1.1229],\n",
       "        [0.2408, 0.6706],\n",
       "        [0.2011, 0.4019],\n",
       "        [0.3275, 0.9642]], grad_fn=<MmBackward0>)"
      ]
     },
     "execution_count": 20,
     "metadata": {},
     "output_type": "execute_result"
    }
   ],
   "source": [
    "keys"
   ]
  },
  {
   "cell_type": "code",
   "execution_count": 21,
   "id": "5309eead",
   "metadata": {},
   "outputs": [
    {
     "data": {
      "text/plain": [
       "tensor([[0.1855, 0.8812],\n",
       "        [0.3951, 1.0037],\n",
       "        [0.3911, 0.9871],\n",
       "        [0.2393, 0.5493],\n",
       "        [0.1808, 0.3748],\n",
       "        [0.3221, 0.7863]], grad_fn=<MmBackward0>)"
      ]
     },
     "execution_count": 21,
     "metadata": {},
     "output_type": "execute_result"
    }
   ],
   "source": [
    "value"
   ]
  },
  {
   "cell_type": "code",
   "execution_count": 22,
   "id": "e2f58e60",
   "metadata": {},
   "outputs": [],
   "source": [
    "key_2 = keys[1]\n",
    "attn_scores_22 = torch.dot(query_2, key_2)"
   ]
  },
  {
   "cell_type": "code",
   "execution_count": 23,
   "id": "028d03bd",
   "metadata": {},
   "outputs": [
    {
     "data": {
      "text/plain": [
       "tensor(1.8524, grad_fn=<DotBackward0>)"
      ]
     },
     "execution_count": 23,
     "metadata": {},
     "output_type": "execute_result"
    }
   ],
   "source": [
    "attn_scores_22"
   ]
  },
  {
   "cell_type": "code",
   "execution_count": 24,
   "id": "1b025521",
   "metadata": {},
   "outputs": [
    {
     "data": {
      "text/plain": [
       "tensor([1.2705, 1.8524, 1.8225, 1.0795, 0.6714, 1.5440],\n",
       "       grad_fn=<SqueezeBackward4>)"
      ]
     },
     "execution_count": 24,
     "metadata": {},
     "output_type": "execute_result"
    }
   ],
   "source": [
    "attn_scores_2 = query_2 @ keys.T\n",
    "attn_scores_2"
   ]
  },
  {
   "cell_type": "code",
   "execution_count": 25,
   "id": "40cdf5df",
   "metadata": {},
   "outputs": [
    {
     "data": {
      "text/plain": [
       "tensor([0.1486, 0.2243, 0.2196, 0.1299, 0.0973, 0.1803],\n",
       "       grad_fn=<SoftmaxBackward0>)"
      ]
     },
     "execution_count": 25,
     "metadata": {},
     "output_type": "execute_result"
    }
   ],
   "source": [
    "d_k = keys.shape[1]\n",
    "attn_weights_2 = torch.softmax(attn_scores_2/ d_k ** 0.5, dim = -1)\n",
    "attn_weights_2"
   ]
  },
  {
   "cell_type": "code",
   "execution_count": 26,
   "id": "5c4d1ebd",
   "metadata": {},
   "outputs": [
    {
     "data": {
      "text/plain": [
       "tensor([0.3088, 0.8225], grad_fn=<SqueezeBackward4>)"
      ]
     },
     "execution_count": 26,
     "metadata": {},
     "output_type": "execute_result"
    }
   ],
   "source": [
    "context_vec_2 = attn_weights_2 @ value\n",
    "\n",
    "context_vec_2"
   ]
  },
  {
   "cell_type": "markdown",
   "id": "97b91aa8",
   "metadata": {},
   "source": [
    "## Implementing a Compact Self Attention Class"
   ]
  },
  {
   "cell_type": "code",
   "execution_count": 27,
   "id": "f2f47cd1",
   "metadata": {},
   "outputs": [
    {
     "data": {
      "text/plain": [
       "tensor([[0.3029, 0.8078],\n",
       "        [0.3088, 0.8225],\n",
       "        [0.3087, 0.8220],\n",
       "        [0.2986, 0.7974],\n",
       "        [0.2979, 0.7959],\n",
       "        [0.3024, 0.8067]], grad_fn=<MmBackward0>)"
      ]
     },
     "execution_count": 27,
     "metadata": {},
     "output_type": "execute_result"
    }
   ],
   "source": [
    "import torch.nn as nn\n",
    "\n",
    "class SelfAttention_v1(nn.Module):\n",
    "    def __init__(self, d_in, d_out):\n",
    "        super().__init__()\n",
    "        self.W_query = torch.nn.Parameter(torch.rand(d_in, d_out))\n",
    "        self.W_key = torch.nn.Parameter(torch.rand(d_in, d_out))\n",
    "        self.W_value = torch.nn.Parameter(torch.rand(d_in, d_out))\n",
    "\n",
    "\n",
    "    def forward(self, x):\n",
    "        queries = inputs @ self.W_query\n",
    "        keys = inputs @ self.W_key\n",
    "        value = inputs @ self.W_value\n",
    "\n",
    "        attn_scores = queries @ keys.T\n",
    "        attn_weights = torch.softmax(attn_scores/ d_k ** 0.5, dim = -1)\n",
    "        context_vec = attn_weights @ value\n",
    "\n",
    "        return context_vec\n",
    "    \n",
    "torch.manual_seed(123)\n",
    "sa_v1 = SelfAttention_v1(d_in, d_out)\n",
    "sa_v1.forward(inputs)"
   ]
  },
  {
   "cell_type": "code",
   "execution_count": 28,
   "id": "08369763",
   "metadata": {},
   "outputs": [
    {
     "data": {
      "text/plain": [
       "tensor([[-0.5401, -0.1131],\n",
       "        [-0.5386, -0.1160],\n",
       "        [-0.5385, -0.1160],\n",
       "        [-0.5360, -0.1156],\n",
       "        [-0.5373, -0.1150],\n",
       "        [-0.5362, -0.1161]], grad_fn=<MmBackward0>)"
      ]
     },
     "execution_count": 28,
     "metadata": {},
     "output_type": "execute_result"
    }
   ],
   "source": [
    "class SelfAttention_v2(nn.Module):\n",
    "    def __init__(self, d_in, d_out, qkv_bias = False):\n",
    "        super().__init__()\n",
    "        self.W_query = torch.nn.Linear(d_in, d_out, bias=qkv_bias)\n",
    "        self.W_key = torch.nn.Linear(d_in, d_out, bias=qkv_bias)\n",
    "        self.W_value = torch.nn.Linear(d_in, d_out, bias=qkv_bias)\n",
    "\n",
    "    def forward(self, x):\n",
    "        queries = self.W_query(inputs)\n",
    "        keys = self.W_key(inputs)\n",
    "        value = self.W_value(inputs)\n",
    "\n",
    "        attn_scores = queries @ keys.T\n",
    "        attn_weights = torch.softmax(attn_scores/ d_k ** 0.5, dim = -1)\n",
    "        context_vec = attn_weights @ value\n",
    "\n",
    "        return context_vec\n",
    "\n",
    "torch.manual_seed(123)\n",
    "sa_v2 = SelfAttention_v2(d_in, d_out)\n",
    "sa_v2.forward(inputs)"
   ]
  },
  {
   "cell_type": "markdown",
   "id": "3a4988c6",
   "metadata": {},
   "source": [
    "## Hiding Future Words with causal attention"
   ]
  },
  {
   "cell_type": "code",
   "execution_count": 29,
   "id": "c8ea8514",
   "metadata": {},
   "outputs": [],
   "source": [
    "queries = sa_v2.W_query(inputs)\n",
    "keys = sa_v2.W_key(inputs)\n",
    "value = sa_v2.W_value(inputs)\n",
    "\n",
    "attn_scores = queries @ keys.T\n",
    "attn_weights = torch.softmax(attn_scores/ d_k ** 0.5, dim = -1)"
   ]
  },
  {
   "cell_type": "code",
   "execution_count": 30,
   "id": "460548d7",
   "metadata": {},
   "outputs": [
    {
     "data": {
      "text/plain": [
       "tensor([[0.1715, 0.1760, 0.1760, 0.1554, 0.1634, 0.1577],\n",
       "        [0.1633, 0.1746, 0.1745, 0.1609, 0.1619, 0.1649],\n",
       "        [0.1633, 0.1746, 0.1744, 0.1609, 0.1619, 0.1649],\n",
       "        [0.1635, 0.1702, 0.1701, 0.1650, 0.1640, 0.1673],\n",
       "        [0.1656, 0.1720, 0.1719, 0.1622, 0.1638, 0.1646],\n",
       "        [0.1622, 0.1707, 0.1705, 0.1652, 0.1634, 0.1680]],\n",
       "       grad_fn=<SoftmaxBackward0>)"
      ]
     },
     "execution_count": 30,
     "metadata": {},
     "output_type": "execute_result"
    }
   ],
   "source": [
    "attn_weights"
   ]
  },
  {
   "cell_type": "code",
   "execution_count": 31,
   "id": "a804fb88",
   "metadata": {},
   "outputs": [
    {
     "name": "stdout",
     "output_type": "stream",
     "text": [
      "tensor([[1., 0., 0., 0., 0., 0.],\n",
      "        [1., 1., 0., 0., 0., 0.],\n",
      "        [1., 1., 1., 0., 0., 0.],\n",
      "        [1., 1., 1., 1., 0., 0.],\n",
      "        [1., 1., 1., 1., 1., 0.],\n",
      "        [1., 1., 1., 1., 1., 1.]])\n"
     ]
    }
   ],
   "source": [
    "context_length = attn_scores.shape[0]\n",
    "mask_simple = torch.tril(torch.ones(context_length, context_length))\n",
    "print(mask_simple)"
   ]
  },
  {
   "cell_type": "code",
   "execution_count": 32,
   "id": "2a1b3c95",
   "metadata": {},
   "outputs": [
    {
     "data": {
      "text/plain": [
       "tensor([[0.1715, 0.0000, 0.0000, 0.0000, 0.0000, 0.0000],\n",
       "        [0.1633, 0.1746, 0.0000, 0.0000, 0.0000, 0.0000],\n",
       "        [0.1633, 0.1746, 0.1744, 0.0000, 0.0000, 0.0000],\n",
       "        [0.1635, 0.1702, 0.1701, 0.1650, 0.0000, 0.0000],\n",
       "        [0.1656, 0.1720, 0.1719, 0.1622, 0.1638, 0.0000],\n",
       "        [0.1622, 0.1707, 0.1705, 0.1652, 0.1634, 0.1680]],\n",
       "       grad_fn=<MulBackward0>)"
      ]
     },
     "execution_count": 32,
     "metadata": {},
     "output_type": "execute_result"
    }
   ],
   "source": [
    "masked_simple = attn_weights * mask_simple\n",
    "masked_simple"
   ]
  },
  {
   "cell_type": "code",
   "execution_count": 33,
   "id": "0e809f55",
   "metadata": {},
   "outputs": [
    {
     "name": "stdout",
     "output_type": "stream",
     "text": [
      "tensor([[1.0000, 0.0000, 0.0000, 0.0000, 0.0000, 0.0000],\n",
      "        [0.4833, 0.5167, 0.0000, 0.0000, 0.0000, 0.0000],\n",
      "        [0.3188, 0.3408, 0.3405, 0.0000, 0.0000, 0.0000],\n",
      "        [0.2444, 0.2545, 0.2543, 0.2467, 0.0000, 0.0000],\n",
      "        [0.1982, 0.2059, 0.2058, 0.1941, 0.1960, 0.0000],\n",
      "        [0.1622, 0.1707, 0.1705, 0.1652, 0.1634, 0.1680]],\n",
      "       grad_fn=<DivBackward0>)\n"
     ]
    }
   ],
   "source": [
    "row_sums = masked_simple.sum(dim=1, keepdim=True)\n",
    "masked_simple_norm = masked_simple / row_sums\n",
    "print(masked_simple_norm)"
   ]
  },
  {
   "cell_type": "code",
   "execution_count": 34,
   "id": "f6961165",
   "metadata": {},
   "outputs": [
    {
     "name": "stdout",
     "output_type": "stream",
     "text": [
      "tensor([[0.3111,   -inf,   -inf,   -inf,   -inf,   -inf],\n",
      "        [0.1655, 0.2602,   -inf,   -inf,   -inf,   -inf],\n",
      "        [0.1653, 0.2595, 0.2584,   -inf,   -inf,   -inf],\n",
      "        [0.0510, 0.1080, 0.1072, 0.0643,   -inf,   -inf],\n",
      "        [0.1270, 0.1808, 0.1802, 0.0975, 0.1114,   -inf],\n",
      "        [0.0476, 0.1192, 0.1182, 0.0731, 0.0580, 0.0966]],\n",
      "       grad_fn=<MaskedFillBackward0>)\n"
     ]
    }
   ],
   "source": [
    "mask = torch.triu(torch.ones(context_length, context_length), diagonal=1)\n",
    "masked = attn_scores.masked_fill(mask.bool(), -torch.inf)\n",
    "print(masked)"
   ]
  },
  {
   "cell_type": "markdown",
   "id": "75b8a10e",
   "metadata": {},
   "source": [
    "## Masking additional attention weights with dropout"
   ]
  },
  {
   "cell_type": "code",
   "execution_count": 35,
   "id": "f353fd7e",
   "metadata": {},
   "outputs": [],
   "source": [
    "torch.manual_seed(123)\n",
    "\n",
    "layer = torch.nn.Dropout(0.5)"
   ]
  },
  {
   "cell_type": "code",
   "execution_count": 36,
   "id": "304ee0a7",
   "metadata": {},
   "outputs": [
    {
     "data": {
      "text/plain": [
       "tensor([[1., 1., 1., 1., 1., 1.],\n",
       "        [1., 1., 1., 1., 1., 1.],\n",
       "        [1., 1., 1., 1., 1., 1.],\n",
       "        [1., 1., 1., 1., 1., 1.],\n",
       "        [1., 1., 1., 1., 1., 1.],\n",
       "        [1., 1., 1., 1., 1., 1.]])"
      ]
     },
     "execution_count": 36,
     "metadata": {},
     "output_type": "execute_result"
    }
   ],
   "source": [
    "example = torch.ones(6, 6)\n",
    "example"
   ]
  },
  {
   "cell_type": "code",
   "execution_count": 37,
   "id": "b860c7d7",
   "metadata": {},
   "outputs": [
    {
     "data": {
      "text/plain": [
       "tensor([[0.3430, 0.3520, 0.0000, 0.3107, 0.3268, 0.0000],\n",
       "        [0.0000, 0.0000, 0.0000, 0.3218, 0.0000, 0.3297],\n",
       "        [0.3267, 0.3492, 0.3489, 0.3218, 0.0000, 0.3297],\n",
       "        [0.0000, 0.3404, 0.3402, 0.0000, 0.0000, 0.3345],\n",
       "        [0.0000, 0.3440, 0.0000, 0.3243, 0.0000, 0.3291],\n",
       "        [0.0000, 0.3413, 0.3411, 0.3304, 0.3269, 0.0000]],\n",
       "       grad_fn=<MulBackward0>)"
      ]
     },
     "execution_count": 37,
     "metadata": {},
     "output_type": "execute_result"
    }
   ],
   "source": [
    "layer(attn_weights)"
   ]
  },
  {
   "cell_type": "markdown",
   "id": "14d36d17",
   "metadata": {},
   "source": [
    "## Compact Causal Self-attention mask"
   ]
  },
  {
   "cell_type": "code",
   "execution_count": 38,
   "id": "4f4e67ce",
   "metadata": {},
   "outputs": [
    {
     "data": {
      "text/plain": [
       "torch.Size([2, 6, 3])"
      ]
     },
     "execution_count": 38,
     "metadata": {},
     "output_type": "execute_result"
    }
   ],
   "source": [
    "batch = torch.stack((inputs, inputs), dim = 0)\n",
    "batch.shape"
   ]
  },
  {
   "cell_type": "code",
   "execution_count": 39,
   "id": "18f15656",
   "metadata": {},
   "outputs": [
    {
     "data": {
      "text/plain": [
       "tensor([[[-0.0872,  0.0286],\n",
       "         [-0.0991,  0.0501],\n",
       "         [-0.1004,  0.0631],\n",
       "         [-0.0986,  0.0487],\n",
       "         [-0.0550,  0.1073],\n",
       "         [-0.0786,  0.0670]],\n",
       "\n",
       "        [[-0.0872,  0.0286],\n",
       "         [-0.0991,  0.0501],\n",
       "         [-0.1004,  0.0631],\n",
       "         [-0.0986,  0.0487],\n",
       "         [-0.0550,  0.1073],\n",
       "         [-0.0786,  0.0670]]], grad_fn=<UnsafeViewBackward0>)"
      ]
     },
     "execution_count": 39,
     "metadata": {},
     "output_type": "execute_result"
    }
   ],
   "source": [
    "class CausalAttention(nn.Module):\n",
    "    def __init__(self, d_in, d_out, context_length, dropout, qkv_bias = False):\n",
    "        super().__init__()\n",
    "        self.W_query = torch.nn.Linear(d_in, d_out, bias=qkv_bias)\n",
    "        self.W_key = torch.nn.Linear(d_in, d_out, bias=qkv_bias)\n",
    "        self.W_value = torch.nn.Linear(d_in, d_out, bias=qkv_bias)\n",
    "        self.dropout = torch.nn.Dropout(dropout)\n",
    "        self.register_buffer(\"mask\", torch.triu(torch.ones(context_length, context_length), diagonal=1))\n",
    "\n",
    "    def forward(self, x):\n",
    "        b, num_tokens, d_in = x.shape\n",
    "        queries = self.W_query(x)\n",
    "        keys = self.W_key(x)\n",
    "        value = self.W_value(x)\n",
    "\n",
    "        attn_scores = queries @ keys.transpose(1, 2)\n",
    "        attn_scores.masked_fill_(\n",
    "            self.mask.bool()[:num_tokens, :num_tokens], -torch.inf)\n",
    "        attn_weights = torch.softmax(\n",
    "            attn_scores/ keys.shape[-1] ** 0.5, dim = -1)\n",
    "        attn_weights = self.dropout(attn_weights)\n",
    "        context_vec = attn_weights @ value\n",
    "\n",
    "        return context_vec\n",
    "\n",
    "torch.manual_seed(789)\n",
    "context_length = batch.shape[1]\n",
    "dropout = 0.0\n",
    "ca = CausalAttention(d_in, d_out, context_length, dropout)\n",
    "ca.forward(batch)"
   ]
  },
  {
   "cell_type": "markdown",
   "id": "b64e0b4f",
   "metadata": {},
   "source": [
    "## Multi Head Attention"
   ]
  },
  {
   "cell_type": "code",
   "execution_count": 40,
   "id": "744603b5",
   "metadata": {},
   "outputs": [
    {
     "data": {
      "text/plain": [
       "tensor([[[-0.4519,  0.2216,  0.4772,  0.1063],\n",
       "         [-0.5874,  0.0058,  0.5891,  0.3257],\n",
       "         [-0.6313, -0.0648,  0.6213,  0.3878],\n",
       "         [-0.5684, -0.0854,  0.5485,  0.3602],\n",
       "         [-0.5601, -0.1081,  0.5383,  0.3540],\n",
       "         [-0.5362, -0.1161,  0.5130,  0.3586]],\n",
       "\n",
       "        [[-0.4519,  0.2216,  0.4772,  0.1063],\n",
       "         [-0.5874,  0.0058,  0.5891,  0.3257],\n",
       "         [-0.6313, -0.0648,  0.6213,  0.3878],\n",
       "         [-0.5684, -0.0854,  0.5485,  0.3602],\n",
       "         [-0.5601, -0.1081,  0.5383,  0.3540],\n",
       "         [-0.5362, -0.1161,  0.5130,  0.3586]]], grad_fn=<CatBackward0>)"
      ]
     },
     "execution_count": 40,
     "metadata": {},
     "output_type": "execute_result"
    }
   ],
   "source": [
    "class MultiHeadAttentionWrapper(nn.Module):\n",
    "    def __init__(self, d_in, d_out, context_length, dropout, num_heads = 2):\n",
    "        super().__init__()\n",
    "        self.heads = nn.ModuleList([\n",
    "            CausalAttention(d_in, d_out, context_length, dropout) for _ in range(num_heads)\n",
    "            ])\n",
    "    \n",
    "    def forward(self, x):\n",
    "        return torch.cat([head(x) for head in self.heads], dim = -1)\n",
    "\n",
    "torch.manual_seed(123)\n",
    "context_length = batch.shape[1]\n",
    "d_in, d_out = 3, 2\n",
    "\n",
    "mha = MultiHeadAttentionWrapper(d_in, d_out, context_length, dropout=0.0, num_heads = 2)\n",
    "mha.forward(batch)"
   ]
  },
  {
   "cell_type": "markdown",
   "id": "ce98223f",
   "metadata": {},
   "source": [
    "## Multi Head Attention with Split Weights"
   ]
  },
  {
   "cell_type": "code",
   "execution_count": 42,
   "id": "f49c6c83",
   "metadata": {},
   "outputs": [
    {
     "name": "stdout",
     "output_type": "stream",
     "text": [
      "tensor([[[ 0.1184,  0.3120, -0.0847, -0.5774],\n",
      "         [ 0.0178,  0.3221, -0.0763, -0.4225],\n",
      "         [-0.0155,  0.3260, -0.0734, -0.3709],\n",
      "         [-0.0122,  0.3139, -0.0708, -0.3616],\n",
      "         [-0.0169,  0.2987, -0.0694, -0.3466],\n",
      "         [-0.0175,  0.3008, -0.0686, -0.3428]],\n",
      "\n",
      "        [[ 0.1184,  0.3120, -0.0847, -0.5774],\n",
      "         [ 0.0178,  0.3221, -0.0763, -0.4225],\n",
      "         [-0.0155,  0.3260, -0.0734, -0.3709],\n",
      "         [-0.0122,  0.3139, -0.0708, -0.3616],\n",
      "         [-0.0169,  0.2987, -0.0694, -0.3466],\n",
      "         [-0.0175,  0.3008, -0.0686, -0.3428]]], grad_fn=<ViewBackward0>)\n",
      "context_vecs.shape: torch.Size([2, 6, 4])\n"
     ]
    }
   ],
   "source": [
    "class MultiHeadAttention(nn.Module):\n",
    "    def __init__(self, d_in, d_out, context_length, dropout, num_heads, qkv_bias=False):\n",
    "        super().__init__()\n",
    "        assert (d_out % num_heads == 0), \\\n",
    "            \"d_out must be divisible by num_heads\"\n",
    "\n",
    "        self.d_out = d_out\n",
    "        self.num_heads = num_heads\n",
    "        self.head_dim = d_out // num_heads # Reduce the projection dim to match desired output dim\n",
    "\n",
    "        self.W_query = nn.Linear(d_in, d_out, bias=qkv_bias)\n",
    "        self.W_key = nn.Linear(d_in, d_out, bias=qkv_bias)\n",
    "        self.W_value = nn.Linear(d_in, d_out, bias=qkv_bias)\n",
    "        self.out_proj = nn.Linear(d_out, d_out)  # Linear layer to combine head outputs\n",
    "        self.dropout = nn.Dropout(dropout)\n",
    "        self.register_buffer(\n",
    "            \"mask\",\n",
    "            torch.triu(torch.ones(context_length, context_length),\n",
    "                       diagonal=1)\n",
    "        )\n",
    "\n",
    "    def forward(self, x):\n",
    "        b, num_tokens, d_in = x.shape\n",
    "        # As in `CausalAttention`, for inputs where `num_tokens` exceeds `context_length`, \n",
    "        # this will result in errors in the mask creation further below. \n",
    "        # In practice, this is not a problem since the LLM (chapters 4-7) ensures that inputs  \n",
    "        # do not exceed `context_length` before reaching this forwar\n",
    "\n",
    "        keys = self.W_key(x) # Shape: (b, num_tokens, d_out)\n",
    "        queries = self.W_query(x)\n",
    "        values = self.W_value(x)\n",
    "\n",
    "        # We implicitly split the matrix by adding a `num_heads` dimension\n",
    "        # Unroll last dim: (b, num_tokens, d_out) -> (b, num_tokens, num_heads, head_dim)\n",
    "        keys = keys.view(b, num_tokens, self.num_heads, self.head_dim) \n",
    "        values = values.view(b, num_tokens, self.num_heads, self.head_dim)\n",
    "        queries = queries.view(b, num_tokens, self.num_heads, self.head_dim)\n",
    "\n",
    "        # Transpose: (b, num_tokens, num_heads, head_dim) -> (b, num_heads, num_tokens, head_dim)\n",
    "        keys = keys.transpose(1, 2)\n",
    "        queries = queries.transpose(1, 2)\n",
    "        values = values.transpose(1, 2)\n",
    "\n",
    "        # Compute scaled dot-product attention (aka self-attention) with a causal mask\n",
    "        attn_scores = queries @ keys.transpose(2, 3)  # Dot product for each head\n",
    "\n",
    "        # Original mask truncated to the number of tokens and converted to boolean\n",
    "        mask_bool = self.mask.bool()[:num_tokens, :num_tokens]\n",
    "\n",
    "        # Use the mask to fill attention scores\n",
    "        attn_scores.masked_fill_(mask_bool, -torch.inf)\n",
    "        \n",
    "        attn_weights = torch.softmax(attn_scores / keys.shape[-1]**0.5, dim=-1)\n",
    "        attn_weights = self.dropout(attn_weights)\n",
    "\n",
    "        # Shape: (b, num_tokens, num_heads, head_dim)\n",
    "        context_vec = (attn_weights @ values).transpose(1, 2) \n",
    "        \n",
    "        # Combine heads, where self.d_out = self.num_heads * self.head_dim\n",
    "        context_vec = context_vec.contiguous().view(b, num_tokens, self.d_out)\n",
    "        context_vec = self.out_proj(context_vec) # optional projection\n",
    "\n",
    "        return context_vec\n",
    "\n",
    "torch.manual_seed(123)\n",
    "\n",
    "batch_size, context_length, d_in = batch.shape\n",
    "d_out = 4\n",
    "mha = MultiHeadAttention(d_in, d_out, context_length, 0.0, num_heads=2)\n",
    "\n",
    "context_vecs = mha(batch)\n",
    "\n",
    "print(context_vecs)\n",
    "print(\"context_vecs.shape:\", context_vecs.shape)"
   ]
  }
 ],
 "metadata": {
  "kernelspec": {
   "display_name": "llm",
   "language": "python",
   "name": "python3"
  },
  "language_info": {
   "codemirror_mode": {
    "name": "ipython",
    "version": 3
   },
   "file_extension": ".py",
   "mimetype": "text/x-python",
   "name": "python",
   "nbconvert_exporter": "python",
   "pygments_lexer": "ipython3",
   "version": "3.11.13"
  }
 },
 "nbformat": 4,
 "nbformat_minor": 5
}
